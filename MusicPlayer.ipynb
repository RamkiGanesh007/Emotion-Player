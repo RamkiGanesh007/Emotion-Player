{
  "nbformat": 4,
  "nbformat_minor": 0,
  "metadata": {
    "accelerator": "GPU",
    "colab": {
      "name": "MusicPlayer.ipynb",
      "provenance": [],
      "collapsed_sections": []
    },
    "kernelspec": {
      "display_name": "Python 3",
      "language": "python",
      "name": "python3"
    },
    "language_info": {
      "codemirror_mode": {
        "name": "ipython",
        "version": 3
      },
      "file_extension": ".py",
      "mimetype": "text/x-python",
      "name": "python",
      "nbconvert_exporter": "python",
      "pygments_lexer": "ipython3",
      "version": "3.7.9"
    }
  },
  "cells": [
    {
      "cell_type": "code",
      "metadata": {
        "id": "opgfTORxGl4h",
        "colab": {
          "base_uri": "https://localhost:8080/"
        },
        "outputId": "734b1e9d-e39a-417b-8f16-aa53831f37e2"
      },
      "source": [
        "%tensorflow_version 2.x\n",
        "import pandas as pd\n",
        "import numpy as np\n",
        "from keras.models import Sequential\n",
        "from keras.layers.core import Flatten, Dense, Dropout\n",
        "from keras.layers.convolutional import Convolution2D, MaxPooling2D, ZeroPadding2D\n",
        "from keras.optimizers import SGD\n",
        "import cv2\n",
        "from keras.layers import Conv2D\n",
        "from tensorflow.keras.utils import to_categorical\n",
        "print(\"Imported\")"
      ],
      "execution_count": null,
      "outputs": [
        {
          "output_type": "stream",
          "text": [
            "Imported\n"
          ],
          "name": "stdout"
        }
      ]
    },
    {
      "cell_type": "code",
      "metadata": {
        "id": "KI7X-FF1Gl4n",
        "colab": {
          "base_uri": "https://localhost:8080/"
        },
        "outputId": "3fc74784-407c-4473-9e7f-ee9507b3d338"
      },
      "source": [
        "from google.colab import drive\n",
        "drive.mount('/content/drive')"
      ],
      "execution_count": null,
      "outputs": [
        {
          "output_type": "stream",
          "text": [
            "Mounted at /content/drive\n"
          ],
          "name": "stdout"
        }
      ]
    },
    {
      "cell_type": "code",
      "metadata": {
        "id": "_VYvL9FYGl4p",
        "colab": {
          "base_uri": "https://localhost:8080/"
        },
        "outputId": "d29f3ca9-388f-430b-97ca-93272757f6ff"
      },
      "source": [
        "emotion_data = pd.read_csv('/content/drive/MyDrive/Datasets/fer2013.csv')\n",
        "print(emotion_data)"
      ],
      "execution_count": null,
      "outputs": [
        {
          "output_type": "stream",
          "text": [
            "       emotion                                             pixels        Usage\n",
            "0            0  70 80 82 72 58 58 60 63 54 58 60 48 89 115 121...     Training\n",
            "1            0  151 150 147 155 148 133 111 140 170 174 182 15...     Training\n",
            "2            2  231 212 156 164 174 138 161 173 182 200 106 38...     Training\n",
            "3            4  24 32 36 30 32 23 19 20 30 41 21 22 32 34 21 1...     Training\n",
            "4            6  4 0 0 0 0 0 0 0 0 0 0 0 3 15 23 28 48 50 58 84...     Training\n",
            "...        ...                                                ...          ...\n",
            "35882        6  50 36 17 22 23 29 33 39 34 37 37 37 39 43 48 5...  PrivateTest\n",
            "35883        3  178 174 172 173 181 188 191 194 196 199 200 20...  PrivateTest\n",
            "35884        0  17 17 16 23 28 22 19 17 25 26 20 24 31 19 27 9...  PrivateTest\n",
            "35885        3  30 28 28 29 31 30 42 68 79 81 77 67 67 71 63 6...  PrivateTest\n",
            "35886        2  19 13 14 12 13 16 21 33 50 57 71 84 97 108 122...  PrivateTest\n",
            "\n",
            "[35887 rows x 3 columns]\n"
          ],
          "name": "stdout"
        }
      ]
    },
    {
      "cell_type": "code",
      "metadata": {
        "id": "AfhrulrHG2m9"
      },
      "source": [
        ""
      ],
      "execution_count": null,
      "outputs": []
    },
    {
      "cell_type": "code",
      "metadata": {
        "id": "hIi231rbGl4q"
      },
      "source": [
        "X_train = []\n",
        "y_train = []\n",
        "X_test = []\n",
        "y_test = []\n",
        "for index, row in emotion_data.iterrows():\n",
        "    k = row['pixels'].split(\" \")\n",
        "    if row['Usage'] == 'Training':\n",
        "        X_train.append(np.array(k))\n",
        "        y_train.append(row['emotion'])\n",
        "    elif row['Usage'] == 'PublicTest':\n",
        "        X_test.append(np.array(k))\n",
        "        y_test.append(row['emotion'])"
      ],
      "execution_count": null,
      "outputs": []
    },
    {
      "cell_type": "code",
      "metadata": {
        "id": "4Vv4P9EpGl4r",
        "colab": {
          "base_uri": "https://localhost:8080/"
        },
        "outputId": "492dee15-5776-427d-e10a-52b064e5fc53"
      },
      "source": [
        "X_train = np.array(X_train)\n",
        "# print(X_train)\n",
        "y_train = np.array(y_train)\n",
        "X_test = np.array(X_test)\n",
        "y_test = np.array(y_test)\n",
        "\n",
        "X_train = X_train.reshape(X_train.shape[0], 48, 48, 1)\n",
        "X_test = X_test.reshape(X_test.shape[0], 48, 48, 1)\n",
        "\n",
        "\n",
        "X_train=X_train.astype('int')\n",
        "y_train=y_train.astype('int')\n",
        "X_test=X_test.astype('int')\n",
        "y_test=y_test.astype('int')\n",
        "\n",
        "y_train= to_categorical(y_train, num_classes=7)\n",
        "y_test = to_categorical(y_test, num_classes=7)\n",
        "\n",
        "\n",
        "# X_test=X_test.astype(float)\n",
        "# X_train=X_train.astype(float)\n",
        "print(X_test.dtype)\n",
        "print(y_test.dtype)\n",
        "print(y_train.dtype)\n",
        "print(X_train.dtype)\n",
        "\n",
        "\n",
        "\n",
        "# print(X_train)\n",
        "# print(y_train)\n",
        "# print(X_test)\n",
        "# print(y_test)\n"
      ],
      "execution_count": null,
      "outputs": [
        {
          "output_type": "stream",
          "text": [
            "int64\n",
            "float32\n",
            "float32\n",
            "int64\n"
          ],
          "name": "stdout"
        }
      ]
    },
    {
      "cell_type": "code",
      "metadata": {
        "id": "Bjo6P4ZRGl4t",
        "colab": {
          "base_uri": "https://localhost:8080/"
        },
        "outputId": "670f2301-2660-4a35-d293-a50dddf34503"
      },
      "source": [
        "model = Sequential()\n",
        "model.add(ZeroPadding2D((1,1),input_shape=(48,48,1)))\n",
        "model.add(Conv2D(64, (3, 3), activation='relu'))\n",
        "model.add(ZeroPadding2D((1,1)))\n",
        "model.add(Conv2D(64, (3, 3), activation='relu'))\n",
        "model.add(MaxPooling2D((2,2), strides=(2,2)))\n",
        "\n",
        "model.add(ZeroPadding2D((1,1)))\n",
        "model.add(Conv2D(128, (3, 3), activation='relu'))\n",
        "model.add(ZeroPadding2D((1,1)))\n",
        "model.add(Conv2D(128, (3, 3), activation='relu'))\n",
        "model.add(MaxPooling2D((2,2), strides=(2,2)))\n",
        "\n",
        "model.add(ZeroPadding2D((1,1)))\n",
        "model.add(Conv2D(256, (3, 3), activation='relu'))\n",
        "model.add(ZeroPadding2D((1,1)))\n",
        "model.add(Conv2D(256, (3, 3), activation='relu'))\n",
        "model.add(ZeroPadding2D((1,1)))\n",
        "model.add(Conv2D(256, (3, 3), activation='relu'))\n",
        "model.add(MaxPooling2D((2,2), strides=(2,2)))\n",
        "\n",
        "model.add(ZeroPadding2D((1,1)))\n",
        "model.add(Conv2D(512, (3, 3), activation='relu'))\n",
        "model.add(ZeroPadding2D((1,1)))\n",
        "model.add(Conv2D(512, (3, 3), activation='relu'))\n",
        "model.add(ZeroPadding2D((1,1)))\n",
        "model.add(Conv2D(512, (3, 3), activation='relu'))\n",
        "model.add(MaxPooling2D((2,2), strides=(2,2)))\n",
        "\n",
        "\n",
        "model.add(ZeroPadding2D((1,1)))\n",
        "model.add(Conv2D(512, (3, 3), activation='relu'))\n",
        "model.add(ZeroPadding2D((1,1)))\n",
        "model.add(Conv2D(512, (3, 3), activation='relu'))\n",
        "model.add(ZeroPadding2D((1,1)))\n",
        "model.add(Conv2D(512, (3, 3), activation='relu'))\n",
        "model.add(MaxPooling2D((2,2), strides=(2,2)))\n",
        "\n",
        "model.add(Flatten())\n",
        "model.add(Dense(4096, activation='relu'))\n",
        "model.add(Dropout(0.5))\n",
        "model.add(Dense(4096, activation='relu'))\n",
        "model.add(Dropout(0.5))\n",
        "model.add(Dense(7, activation='softmax'))\n",
        "\n",
        "print(\"Done\")\n"
      ],
      "execution_count": null,
      "outputs": [
        {
          "output_type": "stream",
          "text": [
            "Done\n"
          ],
          "name": "stdout"
        }
      ]
    },
    {
      "cell_type": "code",
      "metadata": {
        "id": "VPE_5wzcGl4v",
        "colab": {
          "base_uri": "https://localhost:8080/"
        },
        "outputId": "5c1b7c4f-3da8-4203-cdf7-d367707e38b3"
      },
      "source": [
        "model.compile(optimizer='sgd',loss='categorical_crossentropy',metrics=['accuracy'])\n",
        "\n",
        "print(\"Compiled\")"
      ],
      "execution_count": null,
      "outputs": [
        {
          "output_type": "stream",
          "text": [
            "Compiled\n"
          ],
          "name": "stdout"
        }
      ]
    },
    {
      "cell_type": "code",
      "metadata": {
        "colab": {
          "base_uri": "https://localhost:8080/"
        },
        "id": "LqV96T8Ts3Q_",
        "outputId": "6f065da9-2db6-4a88-daef-157a52f30f0c"
      },
      "source": [
        "model.summary()"
      ],
      "execution_count": null,
      "outputs": [
        {
          "output_type": "stream",
          "text": [
            "Model: \"sequential\"\n",
            "_________________________________________________________________\n",
            "Layer (type)                 Output Shape              Param #   \n",
            "=================================================================\n",
            "zero_padding2d (ZeroPadding2 (None, 50, 50, 1)         0         \n",
            "_________________________________________________________________\n",
            "conv2d (Conv2D)              (None, 48, 48, 64)        640       \n",
            "_________________________________________________________________\n",
            "zero_padding2d_1 (ZeroPaddin (None, 50, 50, 64)        0         \n",
            "_________________________________________________________________\n",
            "conv2d_1 (Conv2D)            (None, 48, 48, 64)        36928     \n",
            "_________________________________________________________________\n",
            "max_pooling2d (MaxPooling2D) (None, 24, 24, 64)        0         \n",
            "_________________________________________________________________\n",
            "zero_padding2d_2 (ZeroPaddin (None, 26, 26, 64)        0         \n",
            "_________________________________________________________________\n",
            "conv2d_2 (Conv2D)            (None, 24, 24, 128)       73856     \n",
            "_________________________________________________________________\n",
            "zero_padding2d_3 (ZeroPaddin (None, 26, 26, 128)       0         \n",
            "_________________________________________________________________\n",
            "conv2d_3 (Conv2D)            (None, 24, 24, 128)       147584    \n",
            "_________________________________________________________________\n",
            "max_pooling2d_1 (MaxPooling2 (None, 12, 12, 128)       0         \n",
            "_________________________________________________________________\n",
            "zero_padding2d_4 (ZeroPaddin (None, 14, 14, 128)       0         \n",
            "_________________________________________________________________\n",
            "conv2d_4 (Conv2D)            (None, 12, 12, 256)       295168    \n",
            "_________________________________________________________________\n",
            "zero_padding2d_5 (ZeroPaddin (None, 14, 14, 256)       0         \n",
            "_________________________________________________________________\n",
            "conv2d_5 (Conv2D)            (None, 12, 12, 256)       590080    \n",
            "_________________________________________________________________\n",
            "zero_padding2d_6 (ZeroPaddin (None, 14, 14, 256)       0         \n",
            "_________________________________________________________________\n",
            "conv2d_6 (Conv2D)            (None, 12, 12, 256)       590080    \n",
            "_________________________________________________________________\n",
            "max_pooling2d_2 (MaxPooling2 (None, 6, 6, 256)         0         \n",
            "_________________________________________________________________\n",
            "zero_padding2d_7 (ZeroPaddin (None, 8, 8, 256)         0         \n",
            "_________________________________________________________________\n",
            "conv2d_7 (Conv2D)            (None, 6, 6, 512)         1180160   \n",
            "_________________________________________________________________\n",
            "zero_padding2d_8 (ZeroPaddin (None, 8, 8, 512)         0         \n",
            "_________________________________________________________________\n",
            "conv2d_8 (Conv2D)            (None, 6, 6, 512)         2359808   \n",
            "_________________________________________________________________\n",
            "zero_padding2d_9 (ZeroPaddin (None, 8, 8, 512)         0         \n",
            "_________________________________________________________________\n",
            "conv2d_9 (Conv2D)            (None, 6, 6, 512)         2359808   \n",
            "_________________________________________________________________\n",
            "max_pooling2d_3 (MaxPooling2 (None, 3, 3, 512)         0         \n",
            "_________________________________________________________________\n",
            "zero_padding2d_10 (ZeroPaddi (None, 5, 5, 512)         0         \n",
            "_________________________________________________________________\n",
            "conv2d_10 (Conv2D)           (None, 3, 3, 512)         2359808   \n",
            "_________________________________________________________________\n",
            "zero_padding2d_11 (ZeroPaddi (None, 5, 5, 512)         0         \n",
            "_________________________________________________________________\n",
            "conv2d_11 (Conv2D)           (None, 3, 3, 512)         2359808   \n",
            "_________________________________________________________________\n",
            "zero_padding2d_12 (ZeroPaddi (None, 5, 5, 512)         0         \n",
            "_________________________________________________________________\n",
            "conv2d_12 (Conv2D)           (None, 3, 3, 512)         2359808   \n",
            "_________________________________________________________________\n",
            "max_pooling2d_4 (MaxPooling2 (None, 1, 1, 512)         0         \n",
            "_________________________________________________________________\n",
            "flatten (Flatten)            (None, 512)               0         \n",
            "_________________________________________________________________\n",
            "dense (Dense)                (None, 4096)              2101248   \n",
            "_________________________________________________________________\n",
            "dropout (Dropout)            (None, 4096)              0         \n",
            "_________________________________________________________________\n",
            "dense_1 (Dense)              (None, 4096)              16781312  \n",
            "_________________________________________________________________\n",
            "dropout_1 (Dropout)          (None, 4096)              0         \n",
            "_________________________________________________________________\n",
            "dense_2 (Dense)              (None, 7)                 28679     \n",
            "=================================================================\n",
            "Total params: 33,624,775\n",
            "Trainable params: 33,624,775\n",
            "Non-trainable params: 0\n",
            "_________________________________________________________________\n"
          ],
          "name": "stdout"
        }
      ]
    },
    {
      "cell_type": "code",
      "metadata": {
        "id": "i5x2noS2Gl4w",
        "colab": {
          "base_uri": "https://localhost:8080/"
        },
        "outputId": "57b1947d-fbac-4250-dc51-7ae980c0e17a"
      },
      "source": [
        "model.fit(X_train,y_train,batch_size=32,epochs=30,verbose=1,validation_data=(X_test, y_test))\n",
        "\n",
        "print(\"Fitted\")"
      ],
      "execution_count": null,
      "outputs": [
        {
          "output_type": "stream",
          "text": [
            "Epoch 1/30\n",
            "898/898 [==============================] - 87s 47ms/step - loss: 1.8386 - accuracy: 0.2386 - val_loss: 1.8205 - val_accuracy: 0.2494\n",
            "Epoch 2/30\n",
            "898/898 [==============================] - 41s 46ms/step - loss: 1.8058 - accuracy: 0.2540 - val_loss: 1.7579 - val_accuracy: 0.2767\n",
            "Epoch 3/30\n",
            "898/898 [==============================] - 41s 46ms/step - loss: 1.6624 - accuracy: 0.3382 - val_loss: 1.5660 - val_accuracy: 0.3814\n",
            "Epoch 4/30\n",
            "898/898 [==============================] - 41s 46ms/step - loss: 1.5012 - accuracy: 0.4038 - val_loss: 1.6517 - val_accuracy: 0.3661\n",
            "Epoch 5/30\n",
            "898/898 [==============================] - 41s 46ms/step - loss: 1.4143 - accuracy: 0.4492 - val_loss: 1.4366 - val_accuracy: 0.4475\n",
            "Epoch 6/30\n",
            "898/898 [==============================] - 41s 46ms/step - loss: 1.2961 - accuracy: 0.5028 - val_loss: 1.4322 - val_accuracy: 0.4536\n",
            "Epoch 7/30\n",
            "898/898 [==============================] - 41s 46ms/step - loss: 1.2028 - accuracy: 0.5430 - val_loss: 1.2610 - val_accuracy: 0.5155\n",
            "Epoch 8/30\n",
            "898/898 [==============================] - 41s 46ms/step - loss: 1.1163 - accuracy: 0.5760 - val_loss: 1.2941 - val_accuracy: 0.5152\n",
            "Epoch 9/30\n",
            "898/898 [==============================] - 41s 46ms/step - loss: 1.0350 - accuracy: 0.6122 - val_loss: 1.5605 - val_accuracy: 0.4778\n",
            "Epoch 10/30\n",
            "898/898 [==============================] - 41s 46ms/step - loss: 0.9500 - accuracy: 0.6463 - val_loss: 1.5326 - val_accuracy: 0.4383\n",
            "Epoch 11/30\n",
            "898/898 [==============================] - 41s 46ms/step - loss: 0.8704 - accuracy: 0.6789 - val_loss: 1.5001 - val_accuracy: 0.4745\n",
            "Epoch 12/30\n",
            "898/898 [==============================] - 41s 46ms/step - loss: 0.7747 - accuracy: 0.7170 - val_loss: 1.7394 - val_accuracy: 0.4115\n",
            "Epoch 13/30\n",
            "898/898 [==============================] - 41s 46ms/step - loss: 0.7044 - accuracy: 0.7451 - val_loss: 1.3671 - val_accuracy: 0.5587\n",
            "Epoch 14/30\n",
            "898/898 [==============================] - 41s 46ms/step - loss: 0.5875 - accuracy: 0.7887 - val_loss: 1.7197 - val_accuracy: 0.5222\n",
            "Epoch 15/30\n",
            "898/898 [==============================] - 42s 47ms/step - loss: 0.5194 - accuracy: 0.8172 - val_loss: 1.9732 - val_accuracy: 0.4174\n",
            "Epoch 16/30\n",
            "898/898 [==============================] - 41s 46ms/step - loss: 0.4478 - accuracy: 0.8466 - val_loss: 2.4832 - val_accuracy: 0.4377\n",
            "Epoch 17/30\n",
            "898/898 [==============================] - 41s 46ms/step - loss: 0.3939 - accuracy: 0.8609 - val_loss: 1.6262 - val_accuracy: 0.5322\n",
            "Epoch 18/30\n",
            "898/898 [==============================] - 41s 46ms/step - loss: 0.3194 - accuracy: 0.8925 - val_loss: 1.8323 - val_accuracy: 0.5648\n",
            "Epoch 19/30\n",
            "898/898 [==============================] - 41s 46ms/step - loss: 0.2762 - accuracy: 0.9059 - val_loss: 1.8162 - val_accuracy: 0.5704\n",
            "Epoch 20/30\n",
            "898/898 [==============================] - 41s 46ms/step - loss: 0.2142 - accuracy: 0.9271 - val_loss: 2.0979 - val_accuracy: 0.5542\n",
            "Epoch 21/30\n",
            "898/898 [==============================] - 41s 46ms/step - loss: 0.1963 - accuracy: 0.9358 - val_loss: 1.9114 - val_accuracy: 0.5834\n",
            "Epoch 22/30\n",
            "898/898 [==============================] - 41s 46ms/step - loss: 0.1687 - accuracy: 0.9425 - val_loss: 2.3359 - val_accuracy: 0.5043\n",
            "Epoch 23/30\n",
            "898/898 [==============================] - 41s 46ms/step - loss: 0.1545 - accuracy: 0.9481 - val_loss: 2.1517 - val_accuracy: 0.5834\n",
            "Epoch 24/30\n",
            "898/898 [==============================] - 41s 46ms/step - loss: 0.1158 - accuracy: 0.9619 - val_loss: 2.1730 - val_accuracy: 0.5801\n",
            "Epoch 25/30\n",
            "898/898 [==============================] - 41s 46ms/step - loss: 0.1121 - accuracy: 0.9659 - val_loss: 2.3578 - val_accuracy: 0.5887\n",
            "Epoch 26/30\n",
            "898/898 [==============================] - 41s 46ms/step - loss: 0.0927 - accuracy: 0.9710 - val_loss: 1.9303 - val_accuracy: 0.5790\n",
            "Epoch 27/30\n",
            "898/898 [==============================] - 41s 46ms/step - loss: 0.0895 - accuracy: 0.9714 - val_loss: 1.7938 - val_accuracy: 0.5851\n",
            "Epoch 28/30\n",
            "898/898 [==============================] - 41s 46ms/step - loss: 0.0733 - accuracy: 0.9777 - val_loss: 2.2267 - val_accuracy: 0.5834\n",
            "Epoch 29/30\n",
            "898/898 [==============================] - 41s 46ms/step - loss: 0.0703 - accuracy: 0.9782 - val_loss: 2.5626 - val_accuracy: 0.5860\n",
            "Epoch 30/30\n",
            "898/898 [==============================] - 41s 46ms/step - loss: 0.0695 - accuracy: 0.9772 - val_loss: 2.1918 - val_accuracy: 0.5896\n",
            "Fitted\n"
          ],
          "name": "stdout"
        }
      ]
    },
    {
      "cell_type": "code",
      "metadata": {
        "id": "ikVPInRJGl4y",
        "colab": {
          "base_uri": "https://localhost:8080/"
        },
        "outputId": "89624e7e-be97-41b2-8930-573394931295"
      },
      "source": [
        "loss_and_metrics = model.evaluate(X_test,y_test)\n",
        "print(loss_and_metrics)\n"
      ],
      "execution_count": null,
      "outputs": [
        {
          "output_type": "stream",
          "text": [
            "113/113 [==============================] - 2s 14ms/step - loss: 2.1918 - accuracy: 0.5896\n",
            "[2.191817045211792, 0.5895792841911316]\n"
          ],
          "name": "stdout"
        }
      ]
    },
    {
      "cell_type": "code",
      "metadata": {
        "id": "i9yTfy35vval",
        "colab": {
          "base_uri": "https://localhost:8080/"
        },
        "outputId": "3dcf6e80-04bb-4aad-f2b4-599356752a44"
      },
      "source": [
        "\n",
        "import tensorflow as tf\n",
        "converter = tf.lite.TFLiteConverter.from_keras_model(model)\n",
        "tflite_model = converter.convert()\n",
        "\n",
        "# Save the model.\n",
        "with open('/content/drive/MyDrive/model.tflite', 'wb') as f:\n",
        "  f.write(tflite_model)\n",
        "\n"
      ],
      "execution_count": null,
      "outputs": [
        {
          "output_type": "stream",
          "text": [
            "INFO:tensorflow:Assets written to: /tmp/tmpuotdpt6z/assets\n"
          ],
          "name": "stdout"
        }
      ]
    }
  ]
}